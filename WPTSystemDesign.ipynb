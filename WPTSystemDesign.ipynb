{
 "cells": [
  {
   "cell_type": "markdown",
   "metadata": {
    "collapsed": true,
    "deletable": true,
    "editable": true
   },
   "source": [
    "# Wireless Power Transfer System Design Methodolgy"
   ]
  },
  {
   "cell_type": "markdown",
   "metadata": {},
   "source": [
    "## Introduction\n",
    "\n",
    "The aim of this document is to come up with a system-level design guidelines and equations for a wireless power transfer system, operating in far-field mode. Such a system can be sized to wirelessly provide DC power to various consumers, such as sensor nodes, wearable electronics, drones, robots, etc. \n",
    "\n",
    "In the first instance, the system is assumed to be a point-to-point one, with wireless communication not taken into account. However, it should be fairly straighforward to transition to a multipoint-to-point system where several charging stations serve one end device, and to add communication capability using existing commercial solutions.\n",
    "\n",
    "The outputs of this methodology are the following:\n",
    "- Number of elements for the Tx antenna array $N_{Tx}$ and its respective gain $G_{Tx}$ \n",
    "- Number of elements for the Rx antenna array $N_{Rx}$ and its respective gain $G_{Rx}$\n",
    "- The required Tx power $P_{Tx}$ before the antenna port\n"
   ]
  },
  {
   "cell_type": "markdown",
   "metadata": {},
   "source": [
    "## Initial Assumptions\n",
    "\n",
    "The main assumption and design goal is that system will be operating in the far-field, i.e. \n",
    "\n",
    "\\begin{equation}\n",
    "R \\geq \\frac{2D^2}{\\lambda}\n",
    "\\end{equation}\n",
    "\n",
    "where $R$ is the distance between the transmitter antenna (Tx) and receiver antenna (Rx), $\\lambda$ is the wavelength corresponding to the centre frequency, and $D$ is the size of the aperture of the Tx antenna. In the case of non-square planar arrays, the larger dimension is used.\n",
    "\n",
    "Following this, it is assumed that the designer of the system specifies the DC power required, $P_{DC}$, as well as the RF-DC conversion efficiency $\\eta_{RF-DC}$. This efficiency is itself dependent on the frequency of operation, however it is a parameter that can be tweaked.\n",
    "\n",
    "The method also assumes that both the distance $R$ and the wavelength $\\lambda$ are specified, as the equations that have been derived are dependent on both. Initially, the results for $N_{Tx}$ and $N_{Rx}$ will be the arithmetically calculated ones, without rounding to the nearest number that can be expressed as $2^i$. Finally, the inter-element spacing in both $x$ and $y$ directions of the array is assumed to be $\\dfrac{\\lambda}{2}$.\n",
    "\n",
    "In future iterations of this algorithm, it will be possible to have either $R$ or $\\lambda$ as a free parameter, but other constraints will have to be introduced. Additionally, realistic array configurations will be considered."
   ]
  },
  {
   "cell_type": "markdown",
   "metadata": {},
   "source": [
    "## Algorithm Outline\n",
    "\n",
    "1. Specify desired distance $R$, desired frequency of operation $f$, DC power required $P_{DC}$, and RF-DC conversion efficiency $\\eta_{RF-DC}$.  \n",
    "2. Calculate wavelength $\\lambda$ and required input RF power after the Rx antenna $P_{RF}$:\n",
    "\n",
    "\\begin{align}\n",
    "\\lambda &= \\frac{f}{c} \\\\\n",
    "P_{RF} &= \\frac{P_{DC}}{\\eta_{RF-DC}}\n",
    "\\end{align}  \n",
    "\n",
    "3. Assume/Measure values for losses in Tx and Rx feed networks, passive components, etc., $L_{Rx}$ and $L_{Tx}$. These can include return and insertion losses as well.  \n",
    "4. Assume/Measure values for atmospheric losses, link margin, rain attenuation. Use $L_{Other}$ to represent these.\n",
    "5. Calculate the Free Space Losses (FSL) from the Friis transmission equation:\n",
    "\n",
    "\\begin{equation}\n",
    "FSL = 20\\log_{10}\\frac{4\\pi d}{\\lambda}\n",
    "\\end{equation}  \n",
    "\n",
    "6. Calculate the following, giving the value for combined Tx and Rx antenna gain, as well as required Tx power $P_{Tx}$:\n",
    "\n",
    "\\begin{equation}\n",
    "P_{Tx} + G_{Tx} + G_{Rx} = P_{RF} + FSL + L_{Rx} + L_{Tx} + L_{Other}\n",
    "\\end{equation}  \n",
    "\n",
    "7. Calculate maximum number of array elements along one side of a square antenna array $N_{Tx}$:\n",
    "\n",
    "\\begin{align}\n",
    "D &= N_{Tx} \\cdot \\frac{\\lambda}{2} \\\\\n",
    "N_{Tx} &\\leq \\sqrt{\\frac{2R}{\\lambda}}\n",
    "\\end{align}\n",
    "\n",
    "8. Calculate Tx array gain $G_{Tx}$ and spot diameter $d$ at distance $R$ from the array:\n",
    "\n",
    "\\begin{align}\n",
    "G_{Tx} &= 10\\log_{10}N_{Tx}^2 \\\\\n",
    "d &= 2R\\tan{\\frac{60}{N_{Tx}}}\n",
    "\\end{align}\n",
    "\n",
    "9. Calculate the maximum size of a square Rx array that is fully illuminated by the main beam of the Tx array at distance $R$, and its corresponding gain $G_{Rx}$:\n",
    "\n",
    "\\begin{align}\n",
    "A &= \\frac{N_{Rx}^2\\lambda^2}{4} \\\\\n",
    "A &= \\frac{d^2}{2} \\\\\n",
    "N_{Rx} &= \\frac{d\\sqrt{2}}{\\lambda} \\\\\n",
    "G_{Rx} &= 10\\log_{10}N_{Rx}^2\n",
    "\\end{align}\n",
    "\n",
    "10. Determine required Tx power $P_{Tx}$, taking into account the gain of the individual array elements:\n",
    "\n",
    "\\begin{equation}\n",
    "P_{Tx} = P_{RF} + FSL + L_{Rx} + L_{Tx} + L_{Other} - G_{Tx} - G_{Tx}^{CELL} - G_{Rx} - G_{Rx}^{CELL}\n",
    "\\end{equation}"
   ]
  },
  {
   "cell_type": "markdown",
   "metadata": {},
   "source": [
    "## Example Design\n",
    "\n",
    "### Design inputs:  \n",
    "$R = 5 m = 500 cm$  \n",
    "$f = 5.8 GHz \\implies \\lambda \\approx 5.172 cm$  \n",
    "$P_{DC} = 15 mW$  \n",
    "$\\eta_{RF-DC} = 0.6$\n",
    "\n",
    "### Design calculations:\n",
    "\n",
    "$P_{RF} = \\frac{15}{0.6} = 25 mW \\implies P_{RF} = 14 dBm$\n",
    "\n",
    "Assume $L_{Rx} = L_{Tx} = 1.5 dB$ and $L_{Other} = 10 dB$  \n",
    "\n",
    "$FSL = 20\\log_{10}\\frac{4\\pi 500}{5.172} =  61.69 dB \\approx 62 dB$  \n",
    "\n",
    "$P_{Tx} + G_{Tx} + G_{Rx} = 14 + 3 + 10 + 62 = 89 dBm$\n",
    "\n",
    "$N_{Tx} = \\sqrt{\\frac{2\\cdot500}{5.172}} = 13.91 \\approx 13$  \n",
    "\n",
    "$G_{Tx} = 10\\log_{10}13^2 = 22.28 dBi$  \n",
    "\n",
    "$d = 2\\cdot500\\tan{\\frac{60}{13}} = 80.73 cm$  \n",
    "\n",
    "$N_{Rx} = \\frac{80.73\\sqrt{2}}{5.172} = 22.075 \\approx 22$  \n",
    "\n",
    "$G_{Rx} = 10\\log_{10}22^2 = 26.84 dBi$\n",
    "\n",
    "Assume $G_{Tx}^{CELL} = G_{Rx}^{CELL} = 6 dBi$  \n",
    "\n",
    "$P_{Tx} = 89 - 22.28 - 26.84 - 6 - 6 = 27.88 dBm \\approx 620 mW$"
   ]
  },
  {
   "cell_type": "markdown",
   "metadata": {},
   "source": [
    "## Python implementation of the above algorithm"
   ]
  },
  {
   "cell_type": "code",
   "execution_count": 28,
   "metadata": {
    "collapsed": false
   },
   "outputs": [
    {
     "name": "stdout",
     "output_type": "stream",
     "text": [
      "Required DC power: 25.00 mW / 13.98 dBm\n",
      "Free space losses: 61.70 dB\n",
      "Total losses: 74.70 dB\n",
      "Maximum number of elements in a square array in one direction: 13.0\n",
      "Corresponding array gain: 22.28 dBi\n",
      "Spot diameter at 5 m: 80.73 cm\n",
      "Maximum number of elements in an inscribed square array, in one direction: 22.0\n",
      "Corresponding arragy gain: 26.85 dBi\n",
      "Required RF power: 568.57 mW / 27.55 dBm\n"
     ]
    }
   ],
   "source": [
    "import numpy as np\n",
    "from scipy.constants import speed_of_light\n",
    "\n",
    "distance = 5  # distance in metres\n",
    "freq = 5.8  # frequency in GHz\n",
    "p_dc = 15  # required DC power in mW\n",
    "n = 0.6  # assumed RF-DC conversion efficiency\n",
    "\n",
    "# assumed additional losses and gains, all in dB\n",
    "l_rx = 1.5\n",
    "l_tx = 1.5\n",
    "l_other = 10\n",
    "g_cell_tx = 6\n",
    "g_cell_rx = 6\n",
    "\n",
    "# calculate required input RF power in mW and dBm\n",
    "p_rf = p_dc / n\n",
    "p_rf_db = 10 * np.log10(p_rf)\n",
    "\n",
    "# calculate free space loss\n",
    "wavelength = speed_of_light / (freq * 1e9)\n",
    "fsl = 20 * np.log10(4 * np.pi * distance / wavelength)\n",
    "\n",
    "total_losses = fsl + l_rx + l_tx + l_other\n",
    "\n",
    "# calculate maximum number of elements in Tx array\n",
    "n_tx = np.sqrt(2 * distance / wavelength)\n",
    "n_tx = np.trunc(n_tx)  # always round down\n",
    "g_tx = 10 * np.log10(n_tx ** 2)\n",
    "\n",
    "# calculate spot diameter and size of largest inscribed square array, along with its gain\n",
    "spot_diameter = 2 * distance * np.tan(np.radians(60 / n_tx))\n",
    "n_rx = spot_diameter * np.sqrt(2) / wavelength\n",
    "n_rx = np.trunc(n_rx)\n",
    "g_rx = 10 * np.log10(n_rx ** 2)\n",
    "\n",
    "# calculate required transmit RF power\n",
    "p_tx_db = p_rf_db + total_losses - g_rx - g_tx - g_cell_rx - g_cell_tx\n",
    "p_tx = 10 ** (p_tx_db / 10.0)\n",
    "\n",
    "# print out results\n",
    "print(\"Required DC power: {0:0.2f} mW / {1:0.2f} dBm\".format(p_rf, p_rf_db))\n",
    "print(\"Free space losses: {0:0.2f} dB\".format(fsl))\n",
    "print(\"Total losses: {0:0.2f} dB\".format(total_losses))\n",
    "print(\"Maximum number of elements in a square array in one direction: {0}\".format(n_tx))\n",
    "print(\"Corresponding array gain: {0:0.2f} dBi\".format(g_tx))\n",
    "print(\"Spot diameter at {0} m: {1:0.2f} cm\".format(distance, spot_diameter * 1e2))\n",
    "print(\"Maximum number of elements in an inscribed square array, in one direction: {0}\".format(n_rx))\n",
    "print(\"Corresponding arragy gain: {0:0.2f} dBi\".format(g_rx))\n",
    "print(\"Required RF power: {0:0.2f} mW / {1:0.2f} dBm\".format(p_tx, p_tx_db))"
   ]
  }
 ],
 "metadata": {
  "kernelspec": {
   "display_name": "Python [default]",
   "language": "python",
   "name": "python2"
  },
  "language_info": {
   "codemirror_mode": {
    "name": "ipython",
    "version": 2
   },
   "file_extension": ".py",
   "mimetype": "text/x-python",
   "name": "python",
   "nbconvert_exporter": "python",
   "pygments_lexer": "ipython2",
   "version": "2.7.13"
  }
 },
 "nbformat": 4,
 "nbformat_minor": 2
}
